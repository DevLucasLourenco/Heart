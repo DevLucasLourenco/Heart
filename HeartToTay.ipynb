{
 "cells": [
  {
   "cell_type": "code",
   "execution_count": null,
   "metadata": {},
   "outputs": [],
   "source": [
    "import turtle\n",
    "pen = turtle.Turtle()\n",
    "\n",
    "\n",
    "def curvar():\n",
    "    for i in range(200):\n",
    "        pen.right(1)\n",
    "        pen.forward(1)\n",
    "\n",
    "\n",
    "def coracao():\n",
    "    \n",
    "    pen.fillcolor('red')\n",
    "    pen.begin_fill()\n",
    "    \n",
    "    pen.left(140)\n",
    "    pen.forward(113)\n",
    "    \n",
    "    curvar()\n",
    "    pen.left(120)\n",
    "    \n",
    "    curvar()\n",
    "    \n",
    "    pen.forward(112)\n",
    "    \n",
    "    pen.end_fill()\n",
    "    \n",
    "    \n",
    "def txt():\n",
    "    pen.up()\n",
    "    pen.setpos(-140,65)\n",
    "    pen.down()\n",
    "    pen.color('white')\n",
    "    \n",
    "    pen.write( '''\n",
    "                20 Ligações -\n",
    "              Baco Exu do Blues\n",
    "                        01:42\n",
    "              ''', font=('Verdana',12,'bold'))\n",
    "\n",
    "   \n",
    "    \n",
    "coracao()\n",
    "txt()\n",
    "pen.ht()\n",
    "    "
   ]
  }
 ],
 "metadata": {
  "kernelspec": {
   "display_name": "Python 3.9.12 ('base')",
   "language": "python",
   "name": "python3"
  },
  "language_info": {
   "codemirror_mode": {
    "name": "ipython",
    "version": 3
   },
   "file_extension": ".py",
   "mimetype": "text/x-python",
   "name": "python",
   "nbconvert_exporter": "python",
   "pygments_lexer": "ipython3",
   "version": "3.9.12"
  },
  "orig_nbformat": 4,
  "vscode": {
   "interpreter": {
    "hash": "665796ea3363072d3a6057ac2fdbe3c4fcb0d17a4b92295d9707f78e9c46c0af"
   }
  }
 },
 "nbformat": 4,
 "nbformat_minor": 2
}
